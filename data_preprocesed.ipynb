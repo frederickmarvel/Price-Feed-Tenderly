{
 "cells": [
  {
   "cell_type": "code",
   "execution_count": 1,
   "metadata": {},
   "outputs": [],
   "source": [
    "import pandas as pd\n",
    "import numpy as np"
   ]
  },
  {
   "cell_type": "code",
   "execution_count": null,
   "metadata": {},
   "outputs": [],
   "source": [
    "df = pd.read_csv(\"dune_data.csv\")\n",
    "\n",
    "# Filter the DataFrame for 'HLP index' and 'HLP w/ Yield'\n",
    "hlp_index_df = df[df['symbol'] == 'HLP index']\n",
    "hlp_yield_df = df[df['symbol'] == 'HLP w/ Yield']\n",
    "\n",
    "# Save DataFrames to CSV\n",
    "hlp_index_df.to_csv('hlp_index_data.csv', index=False)\n",
    "hlp_yield_df.to_csv('hlp_yield_data.csv', index=False)\n"
   ]
  }
 ],
 "metadata": {
  "kernelspec": {
   "display_name": "Python 3",
   "language": "python",
   "name": "python3"
  },
  "language_info": {
   "codemirror_mode": {
    "name": "ipython",
    "version": 3
   },
   "file_extension": ".py",
   "mimetype": "text/x-python",
   "name": "python",
   "nbconvert_exporter": "python",
   "pygments_lexer": "ipython3",
   "version": "3.8.10"
  }
 },
 "nbformat": 4,
 "nbformat_minor": 2
}
